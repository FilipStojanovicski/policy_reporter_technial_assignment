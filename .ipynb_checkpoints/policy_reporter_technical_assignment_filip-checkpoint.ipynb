{
 "cells": [
  {
   "cell_type": "code",
   "execution_count": 149,
   "id": "4a72ed33",
   "metadata": {},
   "outputs": [],
   "source": [
    "class FSM():\n",
    "    def __init__(self, \n",
    "                 states: list = [], \n",
    "                 valid_inputs: list = [], \n",
    "                 initial_state = None, \n",
    "                 accepting_states: list = [], \n",
    "                 transition_function = lambda x,y: None):\n",
    "        self.states = states\n",
    "        self.valid_inputs = valid_inputs\n",
    "        self.initial_state = initial_state\n",
    "        self.current_state = initial_state\n",
    "        self.accepting_states = accepting_states\n",
    "        self.transition_function = transition_function\n",
    "        \n",
    "        if not initial_state in states:\n",
    "            raise ValueError(\"The initial_state must be contained in the set of states\")\n",
    "        \n",
    "        if not set(accepting_states).issubset(set(states)):\n",
    "            raise ValueError(\"The set of accepting_states must be contained in the set of states\")\n",
    "        \n",
    "    def run(self, inputs):\n",
    "        self.current_state = self.initial_state\n",
    "        for i in inputs:\n",
    "            next_state = self.transition_function(self.current_state, i)\n",
    "            self.current_state = next_state\n",
    "        \n",
    "        if next_state not in self.accepting_states:\n",
    "            raise ValueError(\"The final state is not one of the accepting_states\")\n",
    "            \n",
    "        return next_state"
   ]
  },
  {
   "cell_type": "code",
   "execution_count": 150,
   "id": "43ee488d",
   "metadata": {},
   "outputs": [],
   "source": [
    "def transition_func_div_mod3(current_state, i):\n",
    "    if current_state == \"S0\":\n",
    "        if i == \"0\":\n",
    "            return \"S0\"\n",
    "        elif i == \"1\":\n",
    "            return \"S1\"\n",
    "        else:\n",
    "            raise ValueError(f\"The input {i} is not valid\")\n",
    "    elif current_state == \"S1\":\n",
    "        if i == \"0\":\n",
    "            return \"S2\"\n",
    "        elif i == \"1\":\n",
    "            return \"S0\"\n",
    "        else:\n",
    "            raise ValueError(f\"The input {i} is not valid\")\n",
    "    elif current_state == \"S2\":\n",
    "        if i == \"0\":\n",
    "            return \"S1\"\n",
    "        elif i == \"1\":\n",
    "            return \"S2\"\n",
    "        else:\n",
    "            raise ValueError(f\"The input {i} is not valid\")\n",
    "    else:\n",
    "        raise ValueError(f\"The current_state {current} is not valid\")"
   ]
  },
  {
   "cell_type": "code",
   "execution_count": 151,
   "id": "db95857d",
   "metadata": {},
   "outputs": [],
   "source": [
    "fsm_division_mod3 = FSM(states = [\"S0\", \"S1\", \"S2\"], \n",
    "                        valid_inputs = [\"0\",\"1\"], \n",
    "                        initial_state = \"S0\", \n",
    "                        accepting_states = [\"S0\", \"S1\", \"S2\"],\n",
    "                        transition_function = transition_func_div_mod3\n",
    "                       )"
   ]
  },
  {
   "cell_type": "code",
   "execution_count": 152,
   "id": "d530057d",
   "metadata": {},
   "outputs": [],
   "source": [
    "test_cases = {\"1101\": \"S1\", \"1110\": \"S2\", \"1111\": \"S0\", \"110\": \"S0\", \"1010\": \"S1\"}"
   ]
  },
  {
   "cell_type": "code",
   "execution_count": 153,
   "id": "c72e56f9",
   "metadata": {},
   "outputs": [],
   "source": [
    "for _input, expected_output in test_cases.items():\n",
    "    _output = fsm_division_mod3.run(_input)\n",
    "    assert _output == expected_output"
   ]
  },
  {
   "cell_type": "code",
   "execution_count": null,
   "id": "d988c9c4",
   "metadata": {},
   "outputs": [],
   "source": []
  }
 ],
 "metadata": {
  "kernelspec": {
   "display_name": "nlp_from_scratch-kernel",
   "language": "python",
   "name": "nlp_from_scratch-kernel"
  },
  "language_info": {
   "codemirror_mode": {
    "name": "ipython",
    "version": 3
   },
   "file_extension": ".py",
   "mimetype": "text/x-python",
   "name": "python",
   "nbconvert_exporter": "python",
   "pygments_lexer": "ipython3",
   "version": "3.12.2"
  }
 },
 "nbformat": 4,
 "nbformat_minor": 5
}
